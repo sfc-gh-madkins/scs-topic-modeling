{
 "cells": [
  {
   "cell_type": "code",
   "execution_count": 1,
   "id": "273f3db2-4cbe-45c4-9019-42c79309f1e6",
   "metadata": {
    "tags": []
   },
   "outputs": [],
   "source": [
    "import os\n",
    "\n",
    "from snowflake.snowpark import Session\n",
    "import pandas as pd\n",
    "import matplotlib.pyplot as plt\n",
    "import seaborn as sns"
   ]
  },
  {
   "cell_type": "markdown",
   "id": "298832a3-b753-4ecb-8481-e71ac450db4b",
   "metadata": {
    "tags": []
   },
   "source": [
    "## Connect to Snowflake / Snowpark Session"
   ]
  },
  {
   "cell_type": "code",
   "execution_count": 2,
   "id": "973c2e6c-4a67-4333-8963-1235a1209288",
   "metadata": {
    "tags": []
   },
   "outputs": [
    {
     "data": {
      "text/plain": [
       "<snowflake.snowpark.session.Session at 0x7fe896ff0bb0>"
      ]
     },
     "execution_count": 2,
     "metadata": {},
     "output_type": "execute_result"
    }
   ],
   "source": [
    "#Very easy to connect to your snowflake account\n",
    "\n",
    "def get_token():\n",
    "    with open('/snowflake/session/token', 'r') as f:\n",
    "        return f.read()\n",
    "\n",
    "connection_params = {\n",
    "    'host': os.environ['SNOWFLAKE_HOST'],\n",
    "    'port': os.environ['SNOWFLAKE_PORT'],\n",
    "    'protocol': 'https',\n",
    "    'account': os.environ['SNOWFLAKE_ACCOUNT'],\n",
    "    'authenticator': 'oauth',\n",
    "    'token': get_token(),\n",
    "    'role': 'SERVICESNOW_USER_ROLE',\n",
    "    'warehouse': 'MADKINS',\n",
    "    'database': 'TOPIC_MODELING',\n",
    "    'schema': 'PROD'\n",
    "}\n",
    "\n",
    "session = Session.builder.configs(connection_params).create()\n",
    "session"
   ]
  },
  {
   "cell_type": "markdown",
   "id": "2f14e062-36f9-4c22-804c-d1de6d28d506",
   "metadata": {},
   "source": [
    "# Read our Data into our Notebook\n",
    "\n",
    "For topic modeling, we're going to want our reviews and our embeddings"
   ]
  },
  {
   "cell_type": "code",
   "execution_count": 3,
   "id": "86f9c7df-144c-4436-9d82-ae7eb3281d3b",
   "metadata": {},
   "outputs": [
    {
     "data": {
      "text/html": [
       "<div>\n",
       "<style scoped>\n",
       "    .dataframe tbody tr th:only-of-type {\n",
       "        vertical-align: middle;\n",
       "    }\n",
       "\n",
       "    .dataframe tbody tr th {\n",
       "        vertical-align: top;\n",
       "    }\n",
       "\n",
       "    .dataframe thead th {\n",
       "        text-align: right;\n",
       "    }\n",
       "</style>\n",
       "<table border=\"1\" class=\"dataframe\">\n",
       "  <thead>\n",
       "    <tr style=\"text-align: right;\">\n",
       "      <th></th>\n",
       "      <th>DATE</th>\n",
       "      <th>PRODUCT</th>\n",
       "      <th>REVIEW</th>\n",
       "      <th>RATING</th>\n",
       "    </tr>\n",
       "  </thead>\n",
       "  <tbody>\n",
       "    <tr>\n",
       "      <th>0</th>\n",
       "      <td>1685577600000000</td>\n",
       "      <td>Harmony G10 Electric Guitar</td>\n",
       "      <td>I am amazed by the sound quality of this guita...</td>\n",
       "      <td>5</td>\n",
       "    </tr>\n",
       "    <tr>\n",
       "      <th>1</th>\n",
       "      <td>1685318400000000</td>\n",
       "      <td>Melody M5000 Grand Piano</td>\n",
       "      <td>The keys on this piano feel a bit stiff, but t...</td>\n",
       "      <td>3</td>\n",
       "    </tr>\n",
       "    <tr>\n",
       "      <th>2</th>\n",
       "      <td>1684972800000000</td>\n",
       "      <td>Rhythm R200 Drum Set</td>\n",
       "      <td>I've been playing drums for years, and this dr...</td>\n",
       "      <td>5</td>\n",
       "    </tr>\n",
       "    <tr>\n",
       "      <th>3</th>\n",
       "      <td>1684540800000000</td>\n",
       "      <td>Serenade S700 Acoustic Guitar</td>\n",
       "      <td>I'm not impressed with this guitar. The tone i...</td>\n",
       "      <td>2</td>\n",
       "    </tr>\n",
       "    <tr>\n",
       "      <th>4</th>\n",
       "      <td>1684368000000000</td>\n",
       "      <td>Cadence C1500 Keyboard</td>\n",
       "      <td>This keyboard is great for beginners. It has a...</td>\n",
       "      <td>3</td>\n",
       "    </tr>\n",
       "  </tbody>\n",
       "</table>\n",
       "</div>"
      ],
      "text/plain": [
       "               DATE                        PRODUCT  \\\n",
       "0  1685577600000000    Harmony G10 Electric Guitar   \n",
       "1  1685318400000000       Melody M5000 Grand Piano   \n",
       "2  1684972800000000           Rhythm R200 Drum Set   \n",
       "3  1684540800000000  Serenade S700 Acoustic Guitar   \n",
       "4  1684368000000000         Cadence C1500 Keyboard   \n",
       "\n",
       "                                              REVIEW  RATING  \n",
       "0  I am amazed by the sound quality of this guita...       5  \n",
       "1  The keys on this piano feel a bit stiff, but t...       3  \n",
       "2  I've been playing drums for years, and this dr...       5  \n",
       "3  I'm not impressed with this guitar. The tone i...       2  \n",
       "4  This keyboard is great for beginners. It has a...       3  "
      ]
     },
     "execution_count": 3,
     "metadata": {},
     "output_type": "execute_result"
    }
   ],
   "source": [
    "query = '''\n",
    "    SELECT\n",
    "        *\n",
    "    FROM\n",
    "        MUSIC_STORE_REVIEWS_DEMO_SAMPLE\n",
    "    LIMIT\n",
    "'''\n",
    "reviews = session.sql(query)\n",
    "reviews = reviews.toPandas()\n",
    "reviews.head()"
   ]
  },
  {
   "cell_type": "code",
   "execution_count": 4,
   "id": "080a63c8-a3ff-4919-b3aa-ec01d408075e",
   "metadata": {},
   "outputs": [
    {
     "data": {
      "text/plain": [
       "(20010, 4)"
      ]
     },
     "execution_count": 4,
     "metadata": {},
     "output_type": "execute_result"
    }
   ],
   "source": [
    "reviews.shape"
   ]
  },
  {
   "cell_type": "code",
   "execution_count": 5,
   "id": "6c266860-e4c4-4467-a916-aaafc616ba1c",
   "metadata": {},
   "outputs": [
    {
     "data": {
      "text/plain": [
       "(20010, 1)"
      ]
     },
     "execution_count": 5,
     "metadata": {},
     "output_type": "execute_result"
    }
   ],
   "source": [
    "query = '''\n",
    "    SELECT\n",
    "        *\n",
    "    FROM\n",
    "        MUSIC_STORE_REVIEW_EMBEDDINGS_DEMO_SAMPLE\n",
    "'''\n",
    "embeddings_df = session.sql(query)\n",
    "embeddings_df = embeddings_df.toPandas()\n",
    "embeddings_df.shape"
   ]
  },
  {
   "cell_type": "code",
   "execution_count": 6,
   "id": "0927d7df-95f0-4c1d-a243-40b7354b3a8e",
   "metadata": {},
   "outputs": [
    {
     "data": {
      "text/plain": [
       "(20010, 768)"
      ]
     },
     "execution_count": 6,
     "metadata": {},
     "output_type": "execute_result"
    }
   ],
   "source": [
    "# Some light format processing to get the embeddings ready for action as an array of float32s\n",
    "embeddings_df[\"clean_embeddings\"] = (embeddings_df\n",
    "                                     .embeddings.str.lstrip(\"[\\n  \")\n",
    "                                     .str.rstrip(\"]\")\n",
    "                                     .str.replace(\"\\n\", \"\")\n",
    "                                     .str.replace(\"\\\"\", \"\")\n",
    "                                     .str.split(\",\")\n",
    "                                    )\n",
    "exploded_embeddings = embeddings_df.clean_embeddings.explode().astype(\"float32\")\n",
    "embeddings = exploded_embeddings.values.reshape(len(embeddings_df), -1)\n",
    "embeddings.shape"
   ]
  },
  {
   "cell_type": "code",
   "execution_count": 7,
   "id": "aee31ab2-ad1b-4d37-8c53-d117bd8c8b83",
   "metadata": {},
   "outputs": [
    {
     "data": {
      "text/plain": [
       "array([[-0.04069147,  0.05029966,  0.02834741,  0.0434903 , -0.05146772],\n",
       "       [ 0.02609883,  0.00178319,  0.03685594,  0.02907019, -0.03646225]],\n",
       "      dtype=float32)"
      ]
     },
     "execution_count": 7,
     "metadata": {},
     "output_type": "execute_result"
    }
   ],
   "source": [
    "embeddings[:2, :5]"
   ]
  },
  {
   "cell_type": "markdown",
   "id": "b0dcb280-aac0-4bfb-b4b5-7b8aeaabcaec",
   "metadata": {},
   "source": [
    "# Analyzing our Reviews\n",
    "\n",
    "We can use state-of-the-art topic modeling techniques to analyze our reviews."
   ]
  },
  {
   "cell_type": "code",
   "execution_count": 9,
   "id": "fa42a7c5-2695-4769-a434-8fd1c1611604",
   "metadata": {},
   "outputs": [],
   "source": [
    "from bertopic import BERTopic\n",
    "\n",
    "topic_model = BERTopic(\n",
    "    verbose=True,\n",
    "    calculate_probabilities=True,\n",
    ")\n",
    "topics, probs = topic_model.fit_transform(docs, embeddings)"
   ]
  },
  {
   "cell_type": "code",
   "execution_count": null,
   "id": "e8e7d60c-c731-4b8b-bf17-b9f617f92258",
   "metadata": {},
   "outputs": [],
   "source": [
    "## TODO: Small visualization"
   ]
  },
  {
   "cell_type": "code",
   "execution_count": null,
   "id": "dcfd2e5f-c6c7-45e8-a5cf-f8695707bb0d",
   "metadata": {},
   "outputs": [],
   "source": []
  },
  {
   "cell_type": "markdown",
   "id": "8bf81210-fd88-4966-ba2a-14b5a395ef2c",
   "metadata": {},
   "source": [
    "Because we're passing in our already created embeddings, this only took about 30 seconds to process 20,000 reviews.\n",
    "\n",
    "In the real-world, we'd like to do this on hundreds of thousands or even millions of reviews. This can get **very** slow (far too slow for this demo).\n",
    "\n",
    "Fortunately, we can accelerate the entire topic modeling pipeline on the NVIDIA GPUs and frameworks now available within the Snowflake platform.\n",
    "\n",
    "Let's use the RAPIDS machine learning library cuML to run the same pipeline."
   ]
  },
  {
   "cell_type": "code",
   "execution_count": null,
   "id": "70062686-1e65-43ae-b311-6fddd94a2215",
   "metadata": {},
   "outputs": [],
   "source": [
    "from bertopic import BERTopic\n",
    "from cuml.cluster import HDBSCAN\n",
    "from cuml.manifold import UMAP\n",
    "from cuml.feature_extraction.text import CountVectorizer\n",
    "\n",
    "# Create instances of GPU-accelerated UMAP, HDBSCAN, and CountVectorizer\n",
    "umap_model = UMAP(n_components=5, n_neighbors=15, min_dist=0.0)\n",
    "hdbscan_model = HDBSCAN(\n",
    "    min_samples=10,\n",
    "    min_cluster_size=50,\n",
    "    gen_min_span_tree=True,\n",
    "    prediction_data=True\n",
    ")\n",
    "vectorizer_model = CountVectorizer(stop_words=\"english\")\n",
    "\n",
    "# Pass the cuML estimators into BERTopic\n",
    "topic_model = BERTopic(\n",
    "    umap_model=umap_model,\n",
    "    hdbscan_model=hdbscan_model,\n",
    "    verbose=True,\n",
    "    calculate_probabilities=True,\n",
    "    vectorizer_model=vectorizer_model,\n",
    ")\n",
    "topics, probs = topic_model.fit_transform(docs, embeddings)"
   ]
  },
  {
   "cell_type": "markdown",
   "id": "c6ded51d-3a71-447b-9d3d-0b881d8baaeb",
   "metadata": {},
   "source": [
    "**Way faster**.\n",
    "\n",
    "Snowpark Containers makes it possible to do these new kinds of workflows in the Snowflake platform."
   ]
  },
  {
   "cell_type": "code",
   "execution_count": null,
   "id": "e60992e0-0b9a-4a34-be86-f732ff07b299",
   "metadata": {},
   "outputs": [],
   "source": []
  }
 ],
 "metadata": {
  "kernelspec": {
   "display_name": "Python 3 (ipykernel)",
   "language": "python",
   "name": "python3"
  },
  "language_info": {
   "codemirror_mode": {
    "name": "ipython",
    "version": 3
   },
   "file_extension": ".py",
   "mimetype": "text/x-python",
   "name": "python",
   "nbconvert_exporter": "python",
   "pygments_lexer": "ipython3",
   "version": "3.8.15"
  }
 },
 "nbformat": 4,
 "nbformat_minor": 5
}
