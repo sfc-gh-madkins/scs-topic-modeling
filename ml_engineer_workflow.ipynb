{
 "cells": [
  {
   "cell_type": "markdown",
   "id": "51484d07-c2e3-4222-9577-1254e83d294d",
   "metadata": {},
   "source": [
    "# TODO: This ML engineer notebook should be running in its own separate container"
   ]
  },
  {
   "cell_type": "code",
   "execution_count": 1,
   "id": "5e0bec56-11e3-4e33-b11f-b8e9b0fc3c61",
   "metadata": {
    "tags": []
   },
   "outputs": [
    {
     "name": "stderr",
     "output_type": "stream",
     "text": [
      "/opt/conda/envs/rapids/lib/python3.8/site-packages/joblib/_multiprocessing_helpers.py:46: UserWarning: [Errno 28] No space left on device.  joblib will operate in serial mode\n",
      "  warnings.warn('%s.  joblib will operate in serial mode' % (e,))\n"
     ]
    }
   ],
   "source": [
    "# !wget http://snap.stanford.edu/data/amazon/productGraph/categoryFiles/reviews_Musical_Instruments_5.json.gz\n",
    "import os \n",
    "import json\n",
    "\n",
    "from sentence_transformers import SentenceTransformer, InputExample, losses\n",
    "from torch.utils.data import DataLoader\n",
    "import pandas as pd\n",
    "from sklearn.metrics.pairwise import cosine_similarity\n",
    "\n",
    "from snowflake.snowpark import Session\n",
    "\n",
    "import matplotlib.pyplot as plt\n",
    "import seaborn as sns"
   ]
  },
  {
   "cell_type": "markdown",
   "id": "aba31c72-2353-47b5-aed1-4b97eaad102f",
   "metadata": {
    "tags": []
   },
   "source": [
    "## Connect to Snowflake / Snowpark Session"
   ]
  },
  {
   "cell_type": "code",
   "execution_count": 2,
   "id": "04df4604-b0d3-43c5-8f31-54a093206405",
   "metadata": {
    "tags": []
   },
   "outputs": [
    {
     "data": {
      "text/plain": [
       "<snowflake.snowpark.session.Session at 0x7f56818c47f0>"
      ]
     },
     "execution_count": 2,
     "metadata": {},
     "output_type": "execute_result"
    }
   ],
   "source": [
    "#Very easy to connect to your snowflake account\n",
    "\n",
    "def get_token():\n",
    "    with open('/snowflake/session/token', 'r') as f:\n",
    "        return f.read()\n",
    "\n",
    "connection_params = {\n",
    "    'host': os.environ['SNOWFLAKE_HOST'],\n",
    "    'port': os.environ['SNOWFLAKE_PORT'],\n",
    "    'protocol': 'https',\n",
    "    'account': os.environ['SNOWFLAKE_ACCOUNT'],\n",
    "    'authenticator': 'oauth',\n",
    "    'token': get_token(),\n",
    "    'role': 'SERVICESNOW_USER_ROLE',\n",
    "    'warehouse': 'MADKINS',\n",
    "    'database': 'TOPIC_MODELING',\n",
    "    'schema': 'PROD'\n",
    "}\n",
    "\n",
    "session = Session.builder.configs(connection_params).create()\n",
    "session"
   ]
  },
  {
   "cell_type": "code",
   "execution_count": 3,
   "id": "61313877-30d7-493e-bcba-fd775b797fde",
   "metadata": {
    "tags": []
   },
   "outputs": [
    {
     "data": {
      "text/plain": [
       "('\"MADKINS\"', '\"SERVICESNOW_USER_ROLE\"', '\"TOPIC_MODELING\"', '\"PROD\"')"
      ]
     },
     "execution_count": 3,
     "metadata": {},
     "output_type": "execute_result"
    }
   ],
   "source": [
    "session.get_current_warehouse(), session.get_current_role(), session.get_current_database(), session.get_current_schema()"
   ]
  },
  {
   "cell_type": "markdown",
   "id": "12a104f5-4a02-4fc8-8e97-331db022c5d8",
   "metadata": {
    "tags": []
   },
   "source": [
    "## Visualize our data"
   ]
  },
  {
   "cell_type": "code",
   "execution_count": 4,
   "id": "336797fd-54f6-4948-928a-db22861ead4d",
   "metadata": {
    "tags": []
   },
   "outputs": [
    {
     "data": {
      "text/html": [
       "<div>\n",
       "<style scoped>\n",
       "    .dataframe tbody tr th:only-of-type {\n",
       "        vertical-align: middle;\n",
       "    }\n",
       "\n",
       "    .dataframe tbody tr th {\n",
       "        vertical-align: top;\n",
       "    }\n",
       "\n",
       "    .dataframe thead th {\n",
       "        text-align: right;\n",
       "    }\n",
       "</style>\n",
       "<table border=\"1\" class=\"dataframe\">\n",
       "  <thead>\n",
       "    <tr style=\"text-align: right;\">\n",
       "      <th></th>\n",
       "      <th>DATE</th>\n",
       "      <th>PRODUCT</th>\n",
       "      <th>REVIEW</th>\n",
       "      <th>RATING</th>\n",
       "    </tr>\n",
       "  </thead>\n",
       "  <tbody>\n",
       "    <tr>\n",
       "      <th>0</th>\n",
       "      <td>2023-06-01</td>\n",
       "      <td>Harmony G10 Electric Guitar</td>\n",
       "      <td>I am amazed by the sound quality of this guita...</td>\n",
       "      <td>5</td>\n",
       "    </tr>\n",
       "    <tr>\n",
       "      <th>1</th>\n",
       "      <td>2023-05-29</td>\n",
       "      <td>Melody M5000 Grand Piano</td>\n",
       "      <td>The keys on this piano feel a bit stiff, but t...</td>\n",
       "      <td>3</td>\n",
       "    </tr>\n",
       "    <tr>\n",
       "      <th>2</th>\n",
       "      <td>2023-05-25</td>\n",
       "      <td>Rhythm R200 Drum Set</td>\n",
       "      <td>I've been playing drums for years, and this dr...</td>\n",
       "      <td>5</td>\n",
       "    </tr>\n",
       "    <tr>\n",
       "      <th>3</th>\n",
       "      <td>2023-05-20</td>\n",
       "      <td>Serenade S700 Acoustic Guitar</td>\n",
       "      <td>I'm not impressed with this guitar. The tone i...</td>\n",
       "      <td>2</td>\n",
       "    </tr>\n",
       "    <tr>\n",
       "      <th>4</th>\n",
       "      <td>2023-05-18</td>\n",
       "      <td>Cadence C1500 Keyboard</td>\n",
       "      <td>This keyboard is great for beginners. It has a...</td>\n",
       "      <td>3</td>\n",
       "    </tr>\n",
       "  </tbody>\n",
       "</table>\n",
       "</div>"
      ],
      "text/plain": [
       "        DATE                        PRODUCT  \\\n",
       "0 2023-06-01    Harmony G10 Electric Guitar   \n",
       "1 2023-05-29       Melody M5000 Grand Piano   \n",
       "2 2023-05-25           Rhythm R200 Drum Set   \n",
       "3 2023-05-20  Serenade S700 Acoustic Guitar   \n",
       "4 2023-05-18         Cadence C1500 Keyboard   \n",
       "\n",
       "                                              REVIEW  RATING  \n",
       "0  I am amazed by the sound quality of this guita...       5  \n",
       "1  The keys on this piano feel a bit stiff, but t...       3  \n",
       "2  I've been playing drums for years, and this dr...       5  \n",
       "3  I'm not impressed with this guitar. The tone i...       2  \n",
       "4  This keyboard is great for beginners. It has a...       3  "
      ]
     },
     "execution_count": 4,
     "metadata": {},
     "output_type": "execute_result"
    }
   ],
   "source": [
    "query = '''\n",
    "\n",
    "    SELECT\n",
    "        *\n",
    "    FROM\n",
    "        MUSIC_STORE_REVIEWS\n",
    "    LIMIT 5\n",
    "    \n",
    "'''\n",
    "df = session.sql(query).to_pandas()\n",
    "df.head()"
   ]
  },
  {
   "cell_type": "markdown",
   "id": "e9321355-67ee-4e32-b333-a3e38c033540",
   "metadata": {},
   "source": [
    "## Load our NLP model"
   ]
  },
  {
   "cell_type": "code",
   "execution_count": 6,
   "id": "f07435e4-b7e6-42f2-b0e4-d8e9c7fcc3e4",
   "metadata": {
    "tags": []
   },
   "outputs": [],
   "source": [
    "#Pre-run this guy\n",
    "model_gpu = SentenceTransformer('all-mpnet-base-v2', device='cuda')\n",
    "model_cpu = SentenceTransformer('all-mpnet-base-v2', device=\"cpu\")"
   ]
  },
  {
   "cell_type": "code",
   "execution_count": 7,
   "id": "c8e5e275-306a-49b3-9506-96db1ac87e79",
   "metadata": {
    "tags": []
   },
   "outputs": [
    {
     "data": {
      "text/plain": [
       "<AxesSubplot: >"
      ]
     },
     "execution_count": 7,
     "metadata": {},
     "output_type": "execute_result"
    },
    {
     "data": {
      "image/png": "[encoded data removed]",
      "text/plain": [
       "<Figure size 640x480 with 2 Axes>"
      ]
     },
     "metadata": {},
     "output_type": "display_data"
    }
   ],
   "source": [
    "sentences = [\n",
    "    \"My Martin 0-16NY is a beautiful piece of craftsmanship.\",\n",
    "    \"The Fender Stratocaster is a great product.\",\n",
    "    \"My guitar is a beautiful piece of craftsmanship.\",\n",
    "    \"Baking banana bread is a fun Sunday morning activity.\"\n",
    "]\n",
    "\n",
    "embeddings = model_gpu.encode(sentences)\n",
    "similarities = cosine_similarity(embeddings).round(2)\n",
    "\n",
    "similarities_df = pd.DataFrame(similarities)\n",
    "similarities_df.columns = sentences\n",
    "similarities_df.index = sentences\n",
    "\n",
    "sns.heatmap(similarities_df, annot=True)"
   ]
  },
  {
   "cell_type": "markdown",
   "id": "01594c21-c014-4aab-bd4b-5a3fc4ec628b",
   "metadata": {
    "tags": []
   },
   "source": [
    "The embeddings from the baseline model suggest that these sentences are only somewhat similar, as the cosine similarity of just a bit over 0.5. In fact, we'd probably like for our model to think that all of the first three sentences are quite similar, as they all refer to guitars being of high quality. Fine-tuning on data relevant to our use case can help us improve the results.\n",
    "\n",
    "Below, we fine-tune our model with a few examples to help it learn that a Martin-016NY is a type of guitar and that Fender is a guitar brand. We assign loose similarity scores as the `label` field to help teach the model which sentences are similar and which are dissimilar."
   ]
  },
  {
   "cell_type": "markdown",
   "id": "02f1b999-5f52-4c33-a3cb-66b85aacafae",
   "metadata": {
    "tags": []
   },
   "source": [
    "## Setting up the Training Data"
   ]
  },
  {
   "cell_type": "code",
   "execution_count": 9,
   "id": "f6b8e49e-9935-4e02-9124-b325dc7c024a",
   "metadata": {
    "tags": []
   },
   "outputs": [],
   "source": [
    "# We'd use more examples in the real-world scenario.\n",
    "train_examples = [\n",
    "    InputExample(\n",
    "        texts=[\"My Martin 0-16NY is a beautiful piece of craftsmanship.\", \"My guitar is a beautiful piece of craftsmanship.\"], label=0.95\n",
    "    ),\n",
    "    InputExample(\n",
    "        texts=[\"My Martin 0-16NY is a beautiful piece of craftsmanship.\", \"James walked quickly through the forest.\"], label=0.1\n",
    "    ),\n",
    "    InputExample(\n",
    "        texts=[\"When I played with a Martin 0-16NY every chord sounded perfect\", \"Sarah played her favorite songs on her guitar\"], label=0.8\n",
    "    ),\n",
    "    InputExample(\n",
    "        texts=[\"Fender has been making guitars for decades.\", \"Guitar-making has a rich history spanning decades.\"], label=0.8\n",
    "    ),\n",
    "    InputExample(\n",
    "        texts=[\"Baking is a great way to relax.\", \"Guitar is an important instrument for rock and roll bands\"], label=0.1\n",
    "    ),\n",
    "]\n",
    "\n",
    "train_dataloader = DataLoader(train_examples, shuffle=True, batch_size=16)\n",
    "train_loss = losses.CosineSimilarityLoss(model_cpu)"
   ]
  },
  {
   "cell_type": "markdown",
   "id": "17f658b1-c803-4346-af6b-13d32115563c",
   "metadata": {},
   "source": [
    "Let's fine-tune using the CPU-based model first, to get a sense of speed."
   ]
  },
  {
   "cell_type": "code",
   "execution_count": 10,
   "id": "9cd3156a-c5e5-4256-9857-e10a4f2fc098",
   "metadata": {
    "tags": []
   },
   "outputs": [
    {
     "data": {
      "application/vnd.jupyter.widget-view+json": {
       "model_id": "955aeedfa54548289d1978c592e3d27b",
       "version_major": 2,
       "version_minor": 0
      },
      "text/plain": [
       "Epoch:   0%|          | 0/15 [00:00<?, ?it/s]"
      ]
     },
     "metadata": {},
     "output_type": "display_data"
    },
    {
     "data": {
      "application/vnd.jupyter.widget-view+json": {
       "model_id": "68a60c44e5c04000a34b4e96b4868f90",
       "version_major": 2,
       "version_minor": 0
      },
      "text/plain": [
       "Iteration:   0%|          | 0/1 [00:00<?, ?it/s]"
      ]
     },
     "metadata": {},
     "output_type": "display_data"
    },
    {
     "data": {
      "application/vnd.jupyter.widget-view+json": {
       "model_id": "f5a20fbf22fa43b29c65aead0b9ef5ad",
       "version_major": 2,
       "version_minor": 0
      },
      "text/plain": [
       "Iteration:   0%|          | 0/1 [00:00<?, ?it/s]"
      ]
     },
     "metadata": {},
     "output_type": "display_data"
    },
    {
     "data": {
      "application/vnd.jupyter.widget-view+json": {
       "model_id": "4d082cbcda7e4428958541434b9b47d1",
       "version_major": 2,
       "version_minor": 0
      },
      "text/plain": [
       "Iteration:   0%|          | 0/1 [00:00<?, ?it/s]"
      ]
     },
     "metadata": {},
     "output_type": "display_data"
    },
    {
     "data": {
      "application/vnd.jupyter.widget-view+json": {
       "model_id": "ae68f2127b4b4c4a8b337c6d234f5749",
       "version_major": 2,
       "version_minor": 0
      },
      "text/plain": [
       "Iteration:   0%|          | 0/1 [00:00<?, ?it/s]"
      ]
     },
     "metadata": {},
     "output_type": "display_data"
    },
    {
     "data": {
      "application/vnd.jupyter.widget-view+json": {
       "model_id": "28300e86bbed4cfcad9291b812787139",
       "version_major": 2,
       "version_minor": 0
      },
      "text/plain": [
       "Iteration:   0%|          | 0/1 [00:00<?, ?it/s]"
      ]
     },
     "metadata": {},
     "output_type": "display_data"
    },
    {
     "data": {
      "application/vnd.jupyter.widget-view+json": {
       "model_id": "d0e8601256384b59b4192102a5847623",
       "version_major": 2,
       "version_minor": 0
      },
      "text/plain": [
       "Iteration:   0%|          | 0/1 [00:00<?, ?it/s]"
      ]
     },
     "metadata": {},
     "output_type": "display_data"
    },
    {
     "data": {
      "application/vnd.jupyter.widget-view+json": {
       "model_id": "7adcdf1cc1a24b478e23e8f8cba92436",
       "version_major": 2,
       "version_minor": 0
      },
      "text/plain": [
       "Iteration:   0%|          | 0/1 [00:00<?, ?it/s]"
      ]
     },
     "metadata": {},
     "output_type": "display_data"
    },
    {
     "data": {
      "application/vnd.jupyter.widget-view+json": {
       "model_id": "8f0fa9ac1d8b4c3cb315f130dddd1ef9",
       "version_major": 2,
       "version_minor": 0
      },
      "text/plain": [
       "Iteration:   0%|          | 0/1 [00:00<?, ?it/s]"
      ]
     },
     "metadata": {},
     "output_type": "display_data"
    },
    {
     "data": {
      "application/vnd.jupyter.widget-view+json": {
       "model_id": "5e7302c54926444390d868d6f8545ea4",
       "version_major": 2,
       "version_minor": 0
      },
      "text/plain": [
       "Iteration:   0%|          | 0/1 [00:00<?, ?it/s]"
      ]
     },
     "metadata": {},
     "output_type": "display_data"
    },
    {
     "data": {
      "application/vnd.jupyter.widget-view+json": {
       "model_id": "f38725f751be4fa2b73f3eca9103973f",
       "version_major": 2,
       "version_minor": 0
      },
      "text/plain": [
       "Iteration:   0%|          | 0/1 [00:00<?, ?it/s]"
      ]
     },
     "metadata": {},
     "output_type": "display_data"
    },
    {
     "data": {
      "application/vnd.jupyter.widget-view+json": {
       "model_id": "ae00d5b0c168459fb8a105c09e306a15",
       "version_major": 2,
       "version_minor": 0
      },
      "text/plain": [
       "Iteration:   0%|          | 0/1 [00:00<?, ?it/s]"
      ]
     },
     "metadata": {},
     "output_type": "display_data"
    },
    {
     "data": {
      "application/vnd.jupyter.widget-view+json": {
       "model_id": "ca26e45de1d448f68508dbd23fa21620",
       "version_major": 2,
       "version_minor": 0
      },
      "text/plain": [
       "Iteration:   0%|          | 0/1 [00:00<?, ?it/s]"
      ]
     },
     "metadata": {},
     "output_type": "display_data"
    },
    {
     "data": {
      "application/vnd.jupyter.widget-view+json": {
       "model_id": "9c1cdd8a40ae40a89f3c0e8d02ad8d0e",
       "version_major": 2,
       "version_minor": 0
      },
      "text/plain": [
       "Iteration:   0%|          | 0/1 [00:00<?, ?it/s]"
      ]
     },
     "metadata": {},
     "output_type": "display_data"
    },
    {
     "data": {
      "application/vnd.jupyter.widget-view+json": {
       "model_id": "f296c7b31890428b8a5792b340b99456",
       "version_major": 2,
       "version_minor": 0
      },
      "text/plain": [
       "Iteration:   0%|          | 0/1 [00:00<?, ?it/s]"
      ]
     },
     "metadata": {},
     "output_type": "display_data"
    },
    {
     "data": {
      "application/vnd.jupyter.widget-view+json": {
       "model_id": "a2469d75889f4f26b61f7f0b3c09da26",
       "version_major": 2,
       "version_minor": 0
      },
      "text/plain": [
       "Iteration:   0%|          | 0/1 [00:00<?, ?it/s]"
      ]
     },
     "metadata": {},
     "output_type": "display_data"
    },
    {
     "name": "stdout",
     "output_type": "stream",
     "text": [
      "CPU times: user 4min 46s, sys: 5.16 s, total: 4min 51s\n",
      "Wall time: 13.8 s\n"
     ]
    }
   ],
   "source": [
    "%%time\n",
    "\n",
    "model_cpu = SentenceTransformer('all-mpnet-base-v2', device=\"cpu\")\n",
    "train_loss = losses.CosineSimilarityLoss(model_cpu)\n",
    "model_cpu.fit(train_objectives=[(train_dataloader, train_loss)], epochs=15, warmup_steps=100)"
   ]
  },
  {
   "cell_type": "markdown",
   "id": "4f6acd1c-842d-4665-8454-8e9762c2aa2b",
   "metadata": {},
   "source": [
    "That took about 10-15 seconds. Let's see how long it takes when we use an NVIIDA GPU."
   ]
  },
  {
   "cell_type": "code",
   "execution_count": 11,
   "id": "05536e0a-7d9a-412a-9c5f-94341c500f55",
   "metadata": {
    "tags": []
   },
   "outputs": [
    {
     "data": {
      "application/vnd.jupyter.widget-view+json": {
       "model_id": "d9df0ebcee46448cb0e503ef2ffacdb6",
       "version_major": 2,
       "version_minor": 0
      },
      "text/plain": [
       "Epoch:   0%|          | 0/15 [00:00<?, ?it/s]"
      ]
     },
     "metadata": {},
     "output_type": "display_data"
    },
    {
     "data": {
      "application/vnd.jupyter.widget-view+json": {
       "model_id": "2e6e02a486f34e92a2b243dcf5ec869c",
       "version_major": 2,
       "version_minor": 0
      },
      "text/plain": [
       "Iteration:   0%|          | 0/1 [00:00<?, ?it/s]"
      ]
     },
     "metadata": {},
     "output_type": "display_data"
    },
    {
     "data": {
      "application/vnd.jupyter.widget-view+json": {
       "model_id": "0079f77d559843dbaff5693ff1a693ff",
       "version_major": 2,
       "version_minor": 0
      },
      "text/plain": [
       "Iteration:   0%|          | 0/1 [00:00<?, ?it/s]"
      ]
     },
     "metadata": {},
     "output_type": "display_data"
    },
    {
     "data": {
      "application/vnd.jupyter.widget-view+json": {
       "model_id": "f8932588f5f14660948ee27564c8ad99",
       "version_major": 2,
       "version_minor": 0
      },
      "text/plain": [
       "Iteration:   0%|          | 0/1 [00:00<?, ?it/s]"
      ]
     },
     "metadata": {},
     "output_type": "display_data"
    },
    {
     "data": {
      "application/vnd.jupyter.widget-view+json": {
       "model_id": "3632f122d081453ea53e61c2a258083d",
       "version_major": 2,
       "version_minor": 0
      },
      "text/plain": [
       "Iteration:   0%|          | 0/1 [00:00<?, ?it/s]"
      ]
     },
     "metadata": {},
     "output_type": "display_data"
    },
    {
     "data": {
      "application/vnd.jupyter.widget-view+json": {
       "model_id": "ce25d43f237a47e7a9481c493229e206",
       "version_major": 2,
       "version_minor": 0
      },
      "text/plain": [
       "Iteration:   0%|          | 0/1 [00:00<?, ?it/s]"
      ]
     },
     "metadata": {},
     "output_type": "display_data"
    },
    {
     "data": {
      "application/vnd.jupyter.widget-view+json": {
       "model_id": "4f62336b05ab46e090b15abd11803880",
       "version_major": 2,
       "version_minor": 0
      },
      "text/plain": [
       "Iteration:   0%|          | 0/1 [00:00<?, ?it/s]"
      ]
     },
     "metadata": {},
     "output_type": "display_data"
    },
    {
     "data": {
      "application/vnd.jupyter.widget-view+json": {
       "model_id": "fed07ae9282b4528a563837103e2c857",
       "version_major": 2,
       "version_minor": 0
      },
      "text/plain": [
       "Iteration:   0%|          | 0/1 [00:00<?, ?it/s]"
      ]
     },
     "metadata": {},
     "output_type": "display_data"
    },
    {
     "data": {
      "application/vnd.jupyter.widget-view+json": {
       "model_id": "e4834d60852c444392c03789435393cf",
       "version_major": 2,
       "version_minor": 0
      },
      "text/plain": [
       "Iteration:   0%|          | 0/1 [00:00<?, ?it/s]"
      ]
     },
     "metadata": {},
     "output_type": "display_data"
    },
    {
     "data": {
      "application/vnd.jupyter.widget-view+json": {
       "model_id": "385d0583348f4fdb922fa05072180ee3",
       "version_major": 2,
       "version_minor": 0
      },
      "text/plain": [
       "Iteration:   0%|          | 0/1 [00:00<?, ?it/s]"
      ]
     },
     "metadata": {},
     "output_type": "display_data"
    },
    {
     "data": {
      "application/vnd.jupyter.widget-view+json": {
       "model_id": "36249a3d251241138205d90e0cb1da07",
       "version_major": 2,
       "version_minor": 0
      },
      "text/plain": [
       "Iteration:   0%|          | 0/1 [00:00<?, ?it/s]"
      ]
     },
     "metadata": {},
     "output_type": "display_data"
    },
    {
     "data": {
      "application/vnd.jupyter.widget-view+json": {
       "model_id": "b9a26d0adcab43db9fdfb3c7ac3729be",
       "version_major": 2,
       "version_minor": 0
      },
      "text/plain": [
       "Iteration:   0%|          | 0/1 [00:00<?, ?it/s]"
      ]
     },
     "metadata": {},
     "output_type": "display_data"
    },
    {
     "data": {
      "application/vnd.jupyter.widget-view+json": {
       "model_id": "ac080d4fead647f6931fcd787d6cf43b",
       "version_major": 2,
       "version_minor": 0
      },
      "text/plain": [
       "Iteration:   0%|          | 0/1 [00:00<?, ?it/s]"
      ]
     },
     "metadata": {},
     "output_type": "display_data"
    },
    {
     "data": {
      "application/vnd.jupyter.widget-view+json": {
       "model_id": "b3ee5d5bafc34981a4d6e7d891ec0cd3",
       "version_major": 2,
       "version_minor": 0
      },
      "text/plain": [
       "Iteration:   0%|          | 0/1 [00:00<?, ?it/s]"
      ]
     },
     "metadata": {},
     "output_type": "display_data"
    },
    {
     "data": {
      "application/vnd.jupyter.widget-view+json": {
       "model_id": "c776c7a1fa1a431aac1ab4a78bcf381a",
       "version_major": 2,
       "version_minor": 0
      },
      "text/plain": [
       "Iteration:   0%|          | 0/1 [00:00<?, ?it/s]"
      ]
     },
     "metadata": {},
     "output_type": "display_data"
    },
    {
     "data": {
      "application/vnd.jupyter.widget-view+json": {
       "model_id": "13339ac84f6a423ea458722d5316dc79",
       "version_major": 2,
       "version_minor": 0
      },
      "text/plain": [
       "Iteration:   0%|          | 0/1 [00:00<?, ?it/s]"
      ]
     },
     "metadata": {},
     "output_type": "display_data"
    },
    {
     "name": "stdout",
     "output_type": "stream",
     "text": [
      "CPU times: user 2.55 s, sys: 287 ms, total: 2.84 s\n",
      "Wall time: 1.85 s\n"
     ]
    }
   ],
   "source": [
    "%%time\n",
    "\n",
    "model_gpu = SentenceTransformer('all-mpnet-base-v2', device='cuda')\n",
    "train_loss = losses.CosineSimilarityLoss(model_gpu)\n",
    "model_gpu.fit(train_objectives=[(train_dataloader, train_loss)], epochs=15, warmup_steps=100)"
   ]
  },
  {
   "cell_type": "markdown",
   "id": "8543b6f3-4656-4955-8dbf-fc6cffc62146",
   "metadata": {},
   "source": [
    "Much faster.\n",
    "\n",
    "Let's see how our fine-tuning changed the embeddings generated by the model."
   ]
  },
  {
   "cell_type": "code",
   "execution_count": null,
   "id": "b7818695-747b-4f28-a35c-b4b5556989fd",
   "metadata": {
    "tags": []
   },
   "outputs": [],
   "source": []
  },
  {
   "cell_type": "code",
   "execution_count": 12,
   "id": "03804ef2-399a-4efb-ad8f-3c28fc652750",
   "metadata": {
    "tags": []
   },
   "outputs": [
    {
     "data": {
      "text/plain": [
       "<AxesSubplot: title={'center': 'Similarity Scores from the Fine-Tuned Model'}>"
      ]
     },
     "execution_count": 12,
     "metadata": {},
     "output_type": "execute_result"
    },
    {
     "data": {
      "image/png": "[encoded data removed]",
      "text/plain": [
       "<Figure size 640x480 with 4 Axes>"
      ]
     },
     "metadata": {},
     "output_type": "display_data"
    }
   ],
   "source": [
    "new_embeddings = model_gpu.encode(sentences)\n",
    "new_similarities = cosine_similarity(new_embeddings).round(2)\n",
    "\n",
    "new_similarities_df = pd.DataFrame(new_similarities)\n",
    "new_similarities_df.columns = sentences\n",
    "new_similarities_df.index = sentences\n",
    "\n",
    "fig, axes = plt.subplots(2, 1)\n",
    "\n",
    "axes[0].set_title(\"Similarity Scores from the Baseline Model\")\n",
    "axes[1].set_title(\"Similarity Scores from the Fine-Tuned Model\")\n",
    "sns.heatmap(similarities_df, annot=True, ax=axes[0], xticklabels=\"\")\n",
    "sns.heatmap(new_similarities_df, annot=True, ax=axes[1])"
   ]
  },
  {
   "cell_type": "markdown",
   "id": "12678a39-69fb-4816-8d81-969293d51ec5",
   "metadata": {},
   "source": [
    "# Snowpark Containers Job\n",
    "We kick off a job to do this at scale and save the model to a stage"
   ]
  },
  {
   "cell_type": "code",
   "execution_count": 13,
   "id": "b0c3c814-869b-4752-9aa8-e34a96c1d293",
   "metadata": {
    "tags": []
   },
   "outputs": [
    {
     "data": {
      "text/html": [
       "<div>\n",
       "<style scoped>\n",
       "    .dataframe tbody tr th:only-of-type {\n",
       "        vertical-align: middle;\n",
       "    }\n",
       "\n",
       "    .dataframe tbody tr th {\n",
       "        vertical-align: top;\n",
       "    }\n",
       "\n",
       "    .dataframe thead th {\n",
       "        text-align: right;\n",
       "    }\n",
       "</style>\n",
       "<table border=\"1\" class=\"dataframe\">\n",
       "  <thead>\n",
       "    <tr style=\"text-align: right;\">\n",
       "      <th></th>\n",
       "      <th>name</th>\n",
       "      <th>state</th>\n",
       "      <th>min_nodes</th>\n",
       "      <th>max_nodes</th>\n",
       "      <th>instance_family</th>\n",
       "      <th>num_services</th>\n",
       "      <th>auto_suspend_secs</th>\n",
       "      <th>auto_resume</th>\n",
       "      <th>active_nodes</th>\n",
       "      <th>idle_nodes</th>\n",
       "      <th>created_on</th>\n",
       "      <th>resumed_on</th>\n",
       "      <th>updated_on</th>\n",
       "      <th>owner</th>\n",
       "      <th>comment</th>\n",
       "    </tr>\n",
       "  </thead>\n",
       "  <tbody>\n",
       "    <tr>\n",
       "      <th>0</th>\n",
       "      <td>NVIDIA_A10GX4</td>\n",
       "      <td>ACTIVE</td>\n",
       "      <td>1</td>\n",
       "      <td>1</td>\n",
       "      <td>GPU_7</td>\n",
       "      <td>1</td>\n",
       "      <td>0</td>\n",
       "      <td>true</td>\n",
       "      <td>1</td>\n",
       "      <td>0</td>\n",
       "      <td>2023-06-07 17:47:16.740000-07:00</td>\n",
       "      <td>2023-06-08 08:25:21.057000-07:00</td>\n",
       "      <td>2023-06-08 08:43:42.457000-07:00</td>\n",
       "      <td>SERVICESNOW_USER_ROLE</td>\n",
       "      <td>None</td>\n",
       "    </tr>\n",
       "  </tbody>\n",
       "</table>\n",
       "</div>"
      ],
      "text/plain": [
       "            name   state  min_nodes  max_nodes instance_family  num_services  \\\n",
       "0  NVIDIA_A10GX4  ACTIVE          1          1           GPU_7             1   \n",
       "\n",
       "   auto_suspend_secs auto_resume  active_nodes  idle_nodes  \\\n",
       "0                  0        true             1           0   \n",
       "\n",
       "                        created_on                       resumed_on  \\\n",
       "0 2023-06-07 17:47:16.740000-07:00 2023-06-08 08:25:21.057000-07:00   \n",
       "\n",
       "                        updated_on                  owner comment  \n",
       "0 2023-06-08 08:43:42.457000-07:00  SERVICESNOW_USER_ROLE    None  "
      ]
     },
     "execution_count": 13,
     "metadata": {},
     "output_type": "execute_result"
    }
   ],
   "source": [
    "query = '''\n",
    "\n",
    "    SHOW COMPUTE POOLS LIKE 'NVIDIA_A10Gx4';\n",
    "    \n",
    "'''\n",
    "\n",
    "pd.DataFrame(session.sql(query).collect())"
   ]
  },
  {
   "cell_type": "code",
   "execution_count": 14,
   "id": "e97cdcc7-fa39-4b89-b6bd-346acc1eac86",
   "metadata": {},
   "outputs": [
    {
     "data": {
      "text/plain": [
       "[Row(status='Execution submitted successfully as 01acd543-0001-a5ae-001f-900700435296.')]"
      ]
     },
     "execution_count": 14,
     "metadata": {},
     "output_type": "execute_result"
    }
   ],
   "source": [
    "query = '''\n",
    "\n",
    "    EXECUTE SERVICE WITH\n",
    "        COMPUTE_POOL = NVIDIA_A10Gx4\n",
    "        SPEC = @tm_stage/transformers_train_manifest.yaml;\n",
    "\n",
    "'''\n",
    "\n",
    "session.sql(query).collect()"
   ]
  },
  {
   "cell_type": "code",
   "execution_count": 17,
   "id": "5044aff1-5ce6-434f-be59-f5f78b7696b5",
   "metadata": {
    "tags": []
   },
   "outputs": [],
   "source": [
    "query = '''\n",
    "\n",
    "    CALL SYSTEM$GET_JOB_LOGS('01acd543-0001-a5ae-001f-900700435296', 'nvidia-train',1000);\n",
    "\n",
    "'''\n",
    "\n",
    "session.sql(query).collect()"
   ]
  },
  {
   "cell_type": "code",
   "execution_count": null,
   "id": "9ebd89c2-1f77-4bb4-8c13-208b0c8ab2e2",
   "metadata": {},
   "outputs": [],
   "source": []
  },
  {
   "cell_type": "markdown",
   "id": "bb377d62-2035-4ee9-9b8d-75dc093ddec3",
   "metadata": {},
   "source": [
    "# Creating Embeddings from Reviews\n",
    "\n",
    "We want our data science teams to be able to analyze our product reviews and identify business insights. To help them, we can create a new table in Snowflake that stores neural network embeddings of all of our reviews."
   ]
  },
  {
   "cell_type": "code",
   "execution_count": 189,
   "id": "223d5e1b-de1a-400e-a4db-3b38fd62133d",
   "metadata": {},
   "outputs": [
    {
     "data": {
      "text/html": [
       "<div>\n",
       "<style scoped>\n",
       "    .dataframe tbody tr th:only-of-type {\n",
       "        vertical-align: middle;\n",
       "    }\n",
       "\n",
       "    .dataframe tbody tr th {\n",
       "        vertical-align: top;\n",
       "    }\n",
       "\n",
       "    .dataframe thead th {\n",
       "        text-align: right;\n",
       "    }\n",
       "</style>\n",
       "<table border=\"1\" class=\"dataframe\">\n",
       "  <thead>\n",
       "    <tr style=\"text-align: right;\">\n",
       "      <th></th>\n",
       "      <th>DATE</th>\n",
       "      <th>PRODUCT</th>\n",
       "      <th>REVIEW</th>\n",
       "      <th>RATING</th>\n",
       "    </tr>\n",
       "  </thead>\n",
       "  <tbody>\n",
       "    <tr>\n",
       "      <th>0</th>\n",
       "      <td>2023-06-01</td>\n",
       "      <td>Harmony G10 Electric Guitar</td>\n",
       "      <td>I am amazed by the sound quality of this guita...</td>\n",
       "      <td>5</td>\n",
       "    </tr>\n",
       "    <tr>\n",
       "      <th>1</th>\n",
       "      <td>2023-05-29</td>\n",
       "      <td>Melody M5000 Grand Piano</td>\n",
       "      <td>The keys on this piano feel a bit stiff, but t...</td>\n",
       "      <td>3</td>\n",
       "    </tr>\n",
       "    <tr>\n",
       "      <th>2</th>\n",
       "      <td>2023-05-25</td>\n",
       "      <td>Rhythm R200 Drum Set</td>\n",
       "      <td>I've been playing drums for years, and this dr...</td>\n",
       "      <td>5</td>\n",
       "    </tr>\n",
       "    <tr>\n",
       "      <th>3</th>\n",
       "      <td>2023-05-20</td>\n",
       "      <td>Serenade S700 Acoustic Guitar</td>\n",
       "      <td>I'm not impressed with this guitar. The tone i...</td>\n",
       "      <td>2</td>\n",
       "    </tr>\n",
       "    <tr>\n",
       "      <th>4</th>\n",
       "      <td>2023-05-18</td>\n",
       "      <td>Cadence C1500 Keyboard</td>\n",
       "      <td>This keyboard is great for beginners. It has a...</td>\n",
       "      <td>3</td>\n",
       "    </tr>\n",
       "  </tbody>\n",
       "</table>\n",
       "</div>"
      ],
      "text/plain": [
       "        DATE                        PRODUCT  \\\n",
       "0 2023-06-01    Harmony G10 Electric Guitar   \n",
       "1 2023-05-29       Melody M5000 Grand Piano   \n",
       "2 2023-05-25           Rhythm R200 Drum Set   \n",
       "3 2023-05-20  Serenade S700 Acoustic Guitar   \n",
       "4 2023-05-18         Cadence C1500 Keyboard   \n",
       "\n",
       "                                              REVIEW  RATING  \n",
       "0  I am amazed by the sound quality of this guita...       5  \n",
       "1  The keys on this piano feel a bit stiff, but t...       3  \n",
       "2  I've been playing drums for years, and this dr...       5  \n",
       "3  I'm not impressed with this guitar. The tone i...       2  \n",
       "4  This keyboard is great for beginners. It has a...       3  "
      ]
     },
     "execution_count": 189,
     "metadata": {},
     "output_type": "execute_result"
    }
   ],
   "source": [
    "# For the live demo, we'll limit to 20K reviews for the sake of time.\n",
    "\n",
    "query = '''\n",
    "\n",
    "    SELECT\n",
    "        *\n",
    "    FROM\n",
    "        MUSIC_STORE_REVIEWS\n",
    "    LIMIT 20000\n",
    "    \n",
    "'''\n",
    "music_reviews_df = session.sql(query).to_pandas()\n",
    "music_reviews_df.head()"
   ]
  },
  {
   "cell_type": "code",
   "execution_count": 190,
   "id": "857ee9af-1d72-4820-a5e4-6b660ffe7094",
   "metadata": {},
   "outputs": [
    {
     "data": {
      "text/plain": [
       "[Row(status='MUSIC_STORE_REVIEWS_DEMO_SAMPLE successfully dropped.')]"
      ]
     },
     "execution_count": 190,
     "metadata": {},
     "output_type": "execute_result"
    }
   ],
   "source": [
    "session.sql(\"drop table MUSIC_STORE_REVIEWS_DEMO_SAMPLE\").collect()"
   ]
  },
  {
   "cell_type": "code",
   "execution_count": 191,
   "id": "47a943cb-1e1b-4b24-b933-daff92ad9ff1",
   "metadata": {},
   "outputs": [
    {
     "data": {
      "text/plain": [
       "<snowflake.snowpark.table.Table at 0x7f549806deb0>"
      ]
     },
     "execution_count": 191,
     "metadata": {},
     "output_type": "execute_result"
    }
   ],
   "source": [
    "session.write_pandas(\n",
    "    df=music_reviews_df,\n",
    "    table_name=\"MUSIC_STORE_REVIEWS_DEMO_SAMPLE\",\n",
    "    auto_create_table=True,\n",
    ")"
   ]
  },
  {
   "cell_type": "code",
   "execution_count": 192,
   "id": "db6385fc-b7de-4e5a-9a92-1c112bf1fbf8",
   "metadata": {},
   "outputs": [],
   "source": [
    "saved_model = SentenceTransformer(\n",
    "    \"/rapids/notebooks/tm_stage/topic-modeling/fine-tuned-model/\"\n",
    ")"
   ]
  },
  {
   "cell_type": "code",
   "execution_count": 195,
   "id": "65826a03-712f-4b9e-87f8-cff33b4a3799",
   "metadata": {},
   "outputs": [
    {
     "data": {
      "application/vnd.jupyter.widget-view+json": {
       "model_id": "aafb8ddc120b478bbad53ebd3393653f",
       "version_major": 2,
       "version_minor": 0
      },
      "text/plain": [
       "Batches:   0%|          | 0/313 [00:00<?, ?it/s]"
      ]
     },
     "metadata": {},
     "output_type": "display_data"
    }
   ],
   "source": [
    "docs = music_reviews_df.REVIEW.tolist()\n",
    "\n",
    "embeddings = saved_model.encode(\n",
    "    sentences=docs,\n",
    "    batch_size=64,\n",
    "    show_progress_bar=True\n",
    ")"
   ]
  },
  {
   "cell_type": "code",
   "execution_count": 197,
   "id": "17ad0344-2a5c-40e7-85f7-233c73e863fb",
   "metadata": {},
   "outputs": [
    {
     "data": {
      "text/plain": [
       "(20000, 768)"
      ]
     },
     "execution_count": 197,
     "metadata": {},
     "output_type": "execute_result"
    }
   ],
   "source": [
    "embeddings.shape"
   ]
  },
  {
   "cell_type": "code",
   "execution_count": 198,
   "id": "1f658e9a-7dfb-40eb-be6a-48bc51cfbf6a",
   "metadata": {},
   "outputs": [
    {
     "data": {
      "text/html": [
       "<div>\n",
       "<style scoped>\n",
       "    .dataframe tbody tr th:only-of-type {\n",
       "        vertical-align: middle;\n",
       "    }\n",
       "\n",
       "    .dataframe tbody tr th {\n",
       "        vertical-align: top;\n",
       "    }\n",
       "\n",
       "    .dataframe thead th {\n",
       "        text-align: right;\n",
       "    }\n",
       "</style>\n",
       "<table border=\"1\" class=\"dataframe\">\n",
       "  <thead>\n",
       "    <tr style=\"text-align: right;\">\n",
       "      <th></th>\n",
       "      <th>embeddings</th>\n",
       "    </tr>\n",
       "  </thead>\n",
       "  <tbody>\n",
       "    <tr>\n",
       "      <th>0</th>\n",
       "      <td>[-0.040691473, 0.050299656, 0.028347412, 0.043...</td>\n",
       "    </tr>\n",
       "    <tr>\n",
       "      <th>1</th>\n",
       "      <td>[0.026098829, 0.001783191, 0.036855936, 0.0290...</td>\n",
       "    </tr>\n",
       "    <tr>\n",
       "      <th>2</th>\n",
       "      <td>[-0.029661525, 0.0006159523, 0.009432108, 0.03...</td>\n",
       "    </tr>\n",
       "    <tr>\n",
       "      <th>3</th>\n",
       "      <td>[-0.0025900165, -0.0018359589, 0.021670623, 0....</td>\n",
       "    </tr>\n",
       "    <tr>\n",
       "      <th>4</th>\n",
       "      <td>[0.024640746, -0.058263652, 0.04633961, 0.0256...</td>\n",
       "    </tr>\n",
       "  </tbody>\n",
       "</table>\n",
       "</div>"
      ],
      "text/plain": [
       "                                          embeddings\n",
       "0  [-0.040691473, 0.050299656, 0.028347412, 0.043...\n",
       "1  [0.026098829, 0.001783191, 0.036855936, 0.0290...\n",
       "2  [-0.029661525, 0.0006159523, 0.009432108, 0.03...\n",
       "3  [-0.0025900165, -0.0018359589, 0.021670623, 0....\n",
       "4  [0.024640746, -0.058263652, 0.04633961, 0.0256..."
      ]
     },
     "execution_count": 198,
     "metadata": {},
     "output_type": "execute_result"
    }
   ],
   "source": [
    "embeddings_df_str = pd.DataFrame(embeddings).astype(\"str\")\n",
    "embeddings_df_final = pd.DataFrame({\"embeddings\": embeddings_df_str.values.tolist()})\n",
    "embeddings_df_final.head()"
   ]
  },
  {
   "cell_type": "code",
   "execution_count": 203,
   "id": "582acc31-dc6b-4472-9d04-75c54bd99719",
   "metadata": {},
   "outputs": [
    {
     "data": {
      "text/plain": [
       "<snowflake.snowpark.table.Table at 0x7f50abc3caf0>"
      ]
     },
     "execution_count": 203,
     "metadata": {},
     "output_type": "execute_result"
    }
   ],
   "source": [
    "session.write_pandas(\n",
    "    df=embeddings_df_final,\n",
    "    table_name=\"MUSIC_STORE_REVIEW_EMBEDDINGS_DEMO_SAMPLE\",\n",
    "    auto_create_table=True,\n",
    ")   "
   ]
  },
  {
   "cell_type": "markdown",
   "id": "addab243-644c-41c5-9af5-f061f3c1c1d3",
   "metadata": {},
   "source": [
    "# What about new reviews in real-time?\n",
    "\n",
    "We really need a service to do this Deep Learning model inference as reviews come in so our data scientists can always have the most updated data for analysis."
   ]
  },
  {
   "cell_type": "markdown",
   "id": "a190071d-6cdc-4140-8415-950b1f9af47e",
   "metadata": {},
   "source": [
    "### Serving our Model with Triton Inference Server\n",
    "\n",
    "Let's launch a Snowpark Containers **Service** that and create a **Services Function** to deploy and use our model with NVIDIA's Triton Inference Server. Triton lets us etc. etc."
   ]
  },
  {
   "cell_type": "code",
   "execution_count": null,
   "id": "837195bd-0964-4202-b044-6f41fe6d5e11",
   "metadata": {},
   "outputs": [],
   "source": [
    "query = '''\n",
    "    \n",
    "    CREATE SERVICE topic_modeling\n",
    "        MIN_INSTANCES = 1\n",
    "        MAX_INSTANCES = 1\n",
    "        COMPUTE_POOL = NVIDIA_A10Gx4\n",
    "        SPEC = '@tm_stage/manifest.yaml';\n",
    "\n",
    "'''\n",
    "session.sql(query).collect()"
   ]
  },
  {
   "cell_type": "markdown",
   "id": "64c46e8a-a587-4a61-a702-1d260d456b78",
   "metadata": {},
   "source": [
    "In the real-world, reviews are coming in and are collected into our reviews table which is sorted date.\n",
    "\n",
    "We can create a **Services Function** to handle this exact scenario.\n",
    "\n",
    "With our Services Function, we can process the brand new reviews and insert them into our newly created embeddings table so our data scientists can use them when they do their analysis."
   ]
  },
  {
   "cell_type": "markdown",
   "id": "52fa49ca-bf80-4200-ae5b-029fa52b6a10",
   "metadata": {},
   "source": [
    "We'll simulate a batch of brand new reviews coming into our demo table."
   ]
  },
  {
   "cell_type": "code",
   "execution_count": 208,
   "id": "fbba8657-c978-40bb-a770-85ad79e06c28",
   "metadata": {},
   "outputs": [
    {
     "data": {
      "text/html": [
       "<div>\n",
       "<style scoped>\n",
       "    .dataframe tbody tr th:only-of-type {\n",
       "        vertical-align: middle;\n",
       "    }\n",
       "\n",
       "    .dataframe tbody tr th {\n",
       "        vertical-align: top;\n",
       "    }\n",
       "\n",
       "    .dataframe thead th {\n",
       "        text-align: right;\n",
       "    }\n",
       "</style>\n",
       "<table border=\"1\" class=\"dataframe\">\n",
       "  <thead>\n",
       "    <tr style=\"text-align: right;\">\n",
       "      <th></th>\n",
       "      <th>DATE</th>\n",
       "      <th>PRODUCT</th>\n",
       "      <th>REVIEW</th>\n",
       "      <th>RATING</th>\n",
       "    </tr>\n",
       "  </thead>\n",
       "  <tbody>\n",
       "    <tr>\n",
       "      <th>0</th>\n",
       "      <td>1687783401000000000</td>\n",
       "      <td>StrumMaster S1200 Acoustic Guitar</td>\n",
       "      <td>The StrumMaster S1200 is an outstanding acoust...</td>\n",
       "      <td>5</td>\n",
       "    </tr>\n",
       "    <tr>\n",
       "      <th>1</th>\n",
       "      <td>1687783401000000000</td>\n",
       "      <td>BeatBox B1200 Electronic Drum Kit</td>\n",
       "      <td>The BeatBox B1200 is a versatile electronic dr...</td>\n",
       "      <td>4</td>\n",
       "    </tr>\n",
       "    <tr>\n",
       "      <th>2</th>\n",
       "      <td>1687783408000000000</td>\n",
       "      <td>SonicKey S1200 Digital Keyboard</td>\n",
       "      <td>The SonicKey S1200 is a reliable digital keybo...</td>\n",
       "      <td>3</td>\n",
       "    </tr>\n",
       "    <tr>\n",
       "      <th>3</th>\n",
       "      <td>1687783412000000000</td>\n",
       "      <td>Harmony H1200 Electric Guitar</td>\n",
       "      <td>The Harmony H1200 is an exceptional electric g...</td>\n",
       "      <td>5</td>\n",
       "    </tr>\n",
       "    <tr>\n",
       "      <th>4</th>\n",
       "      <td>1687783460000000000</td>\n",
       "      <td>RhythmMaster R1100 Drum Set</td>\n",
       "      <td>The RhythmMaster R1100 is a professional-grade...</td>\n",
       "      <td>5</td>\n",
       "    </tr>\n",
       "  </tbody>\n",
       "</table>\n",
       "</div>"
      ],
      "text/plain": [
       "                  DATE                            PRODUCT  \\\n",
       "0  1687783401000000000  StrumMaster S1200 Acoustic Guitar   \n",
       "1  1687783401000000000  BeatBox B1200 Electronic Drum Kit   \n",
       "2  1687783408000000000    SonicKey S1200 Digital Keyboard   \n",
       "3  1687783412000000000      Harmony H1200 Electric Guitar   \n",
       "4  1687783460000000000        RhythmMaster R1100 Drum Set   \n",
       "\n",
       "                                              REVIEW  RATING  \n",
       "0  The StrumMaster S1200 is an outstanding acoust...       5  \n",
       "1  The BeatBox B1200 is a versatile electronic dr...       4  \n",
       "2  The SonicKey S1200 is a reliable digital keybo...       3  \n",
       "3  The Harmony H1200 is an exceptional electric g...       5  \n",
       "4  The RhythmMaster R1100 is a professional-grade...       5  "
      ]
     },
     "execution_count": 208,
     "metadata": {},
     "output_type": "execute_result"
    }
   ],
   "source": [
    "fresh_reviews = \"\"\"\n",
    "{\"Product\": \"StrumMaster S1200 Acoustic Guitar\", \"Review\": \"The StrumMaster S1200 is an outstanding acoustic guitar with a rich and resonant tone. The craftsmanship is exceptional, and it's a joy to play. Highly recommended for both beginners and professionals!\", \"Rating\": 5, \"Date\": \"2023-06-26 12:43:21\"}\n",
    "{\"Product\": \"BeatBox B1200 Electronic Drum Kit\", \"Review\": \"The BeatBox B1200 is a versatile electronic drum kit with a wide range of sounds and responsive pads. The build quality is solid, and it offers extensive customization options. A great choice for drummers of all levels.\", \"Rating\": 4, \"Date\": \"2023-06-26 12:43:21\"}\n",
    "{\"Product\": \"SonicKey S1200 Digital Keyboard\", \"Review\": \"The SonicKey S1200 is a reliable digital keyboard with good sound quality and a user-friendly interface. It offers a decent range of sounds and features, making it suitable for beginners and intermediate players.\", \"Rating\": 3, \"Date\": \"2023-06-26 12:43:28\"}\n",
    "{\"Product\": \"Harmony H1200 Electric Guitar\", \"Review\": \"The Harmony H1200 is an exceptional electric guitar with a versatile tone and superb playability. The craftsmanship is top-notch, and it's a joy to play both on stage and in the studio. A top choice for serious guitarists.\", \"Rating\": 5, \"Date\": \"2023-06-26 12:43:32\"}\n",
    "{\"Product\": \"RhythmMaster R1100 Drum Set\", \"Review\": \"The RhythmMaster R1100 is a professional-grade drum set with outstanding sound quality and durability. The hardware is solid, and it offers excellent resonance. Highly recommended for serious drummers!\", \"Rating\": 5, \"Date\": \"2023-06-26 12:44:20\"}\n",
    "{\"Product\": \"Melodious M800 Violin\", \"Review\": \"The Melodious M800 is a decent violin with a warm and balanced tone. It's suitable for intermediate players looking to upgrade. However, the included bow could be of better quality.\", \"Rating\": 3, \"Date\": \"2023-06-26 12:44:41\"}\n",
    "{\"Product\": \"Cadence C1600 Digital Piano\", \"Review\": \"The Cadence C1600 is a high-end digital piano that delivers exceptional sound quality and realistic touch. The keys feel incredibly close to an acoustic piano, and the range of voices and features is impressive. A top-notch instrument for professional pianists.\", \"Rating\": 5, \"Date\": \"2023-06-26 12:44:01\"}\n",
    "{\"Product\": \"RockStar R800 Bass Guitar\", \"Review\": \"The RockStar R800 is a reliable bass guitar with a solid sound and comfortable playability. It's a suitable choice for beginners and intermediate bassists. Good value for the price.\", \"Rating\": 4, \"Date\": \"2023-06-26 12:44:21\"}\n",
    "{\"Product\": \"Symphony S1800 Flute\", \"Review\": \"The Symphony S1800 is a professional-grade flute with a beautiful and expressive tone. The keys are smooth and responsive, and the craftsmanship is impeccable. A top-notch choice for serious flutists.\", \"Rating\": 5, \"Date\": \"2023-06-26 12:44:29\"}\n",
    "{\"Product\": \"PianoPro P9000 Grand Piano\", \"Review\": \"The PianoPro P9000 is an exquisite grand piano with a rich and expressive sound. The craftsmanship is exceptional, and it's a statement piece for any musician or music lover. A true work of art!\", \"Rating\": 5, \"Date\": \"2023-06-26 12:44:53\"}\n",
    "\"\"\"\n",
    "\n",
    "fresh_reviews = pd.read_json(fresh_reviews, lines=True)\n",
    "\n",
    "# Match our current table's schema\n",
    "fresh_reviews = fresh_reviews[[\"Date\", \"Product\", \"Review\", \"Rating\"]]\n",
    "fresh_reviews.columns = [\"DATE\", \"PRODUCT\", \"REVIEW\", \"RATING\"]\n",
    "fresh_reviews[\"DATE\"] = fresh_reviews[\"DATE\"].astype(\"int64\")\n",
    "\n",
    "fresh_reviews.head()"
   ]
  },
  {
   "cell_type": "code",
   "execution_count": 209,
   "id": "db8653f3-2293-4075-82e5-44a164043a1c",
   "metadata": {},
   "outputs": [
    {
     "data": {
      "text/plain": [
       "<snowflake.snowpark.table.Table at 0x7f5023161820>"
      ]
     },
     "execution_count": 209,
     "metadata": {},
     "output_type": "execute_result"
    }
   ],
   "source": [
    "# Insert these 10 fresh records into our table\n",
    "session.write_pandas(\n",
    "    df=fresh_reviews,\n",
    "    table_name=\"MUSIC_STORE_REVIEWS_DEMO_SAMPLE\",\n",
    ")"
   ]
  },
  {
   "cell_type": "code",
   "execution_count": 221,
   "id": "4d0ef9b0-b12c-4720-a937-aca9d3525203",
   "metadata": {},
   "outputs": [
    {
     "data": {
      "text/plain": [
       "[Row(status='Function TRITON successfully created.')]"
      ]
     },
     "execution_count": 221,
     "metadata": {},
     "output_type": "execute_result"
    }
   ],
   "source": [
    "# Create our services function\n",
    "\n",
    "query = '''\n",
    "\n",
    "    CREATE OR REPLACE FUNCTION triton(n VARCHAR)\n",
    "      RETURNS ARRAY\n",
    "      SERVICE = topic_modeling\n",
    "      ENDPOINT = 'tritonclient'\n",
    "      MAX_BATCH_ROWS = 1000\n",
    "      AS '/inference_topic_modeling'\n",
    "\n",
    "'''\n",
    "session.sql(query).collect()"
   ]
  },
  {
   "cell_type": "code",
   "execution_count": 238,
   "id": "cbcddcfe-2b3f-4045-99b5-060a1c918a37",
   "metadata": {},
   "outputs": [
    {
     "data": {
      "text/plain": [
       "(10, 1)"
      ]
     },
     "execution_count": 238,
     "metadata": {},
     "output_type": "execute_result"
    }
   ],
   "source": [
    "cutoff_time = fresh_reviews[\"DATE\"].iloc[0]\n",
    "\n",
    "query = f'''\n",
    "    SELECT\n",
    "        triton(REVIEW) as embeddings\n",
    "    FROM\n",
    "        \"MUSIC_STORE_REVIEWS_DEMO_SAMPLE\"\n",
    "    WHERE\n",
    "        DATE >= '{cutoff_time}'\n",
    "\n",
    "'''\n",
    "result = session.sql(query)\n",
    "result.toPandas().shape"
   ]
  },
  {
   "cell_type": "code",
   "execution_count": 239,
   "id": "bd4656c0-5777-4f8c-8af7-847bc0ab26e9",
   "metadata": {},
   "outputs": [],
   "source": [
    "result.write.mode(\"append\").save_as_table(\"MUSIC_STORE_REVIEW_EMBEDDINGS_DEMO_SAMPLE\")"
   ]
  },
  {
   "cell_type": "code",
   "execution_count": null,
   "id": "06d11cd4-8e5a-445e-a0dc-047b1aad3ddd",
   "metadata": {},
   "outputs": [],
   "source": []
  },
  {
   "cell_type": "code",
   "execution_count": 240,
   "id": "90059c19-3049-49ab-ba81-fce2779b223d",
   "metadata": {},
   "outputs": [
    {
     "data": {
      "text/plain": [
       "[Row(COUNT(*)=20010)]"
      ]
     },
     "execution_count": 240,
     "metadata": {},
     "output_type": "execute_result"
    }
   ],
   "source": [
    "query = '''\n",
    "    SELECT\n",
    "        COUNT(*)\n",
    "    FROM\n",
    "        MUSIC_STORE_REVIEW_EMBEDDINGS_DEMO_SAMPLE    \n",
    "'''\n",
    "session.sql(query).collect()"
   ]
  },
  {
   "cell_type": "code",
   "execution_count": null,
   "id": "baac964a-a732-427f-a827-beb924b158fe",
   "metadata": {},
   "outputs": [],
   "source": []
  },
  {
   "cell_type": "markdown",
   "id": "484db497-c0fb-46e9-ad65-2c12c3bf9220",
   "metadata": {},
   "source": [
    "# Confidently Bringing custom AI/ML Workflows to Production\n",
    "\n",
    "Fine tuning models and serving ML models for inference are often part of important business processes. Using only open-source frameworks makes sense for testing and kicking the tires, but for production workloads we need to make sure our workloads are secure, well supported, and meeting any necessary SLAs.\n",
    "\n",
    "NVIDIA AI Enterprise provides stable, secure branches, enterprise support, and other key considerations for moving workloads into production. With the new Snowflake-NVIDIA partnership announced at Snowflake Summit, your organization can purchase an NVIDIA AI Enterprise license on the Snowflake marketplace and smoothly deploy AI and ML models and workflows in the Snowflake platform."
   ]
  },
  {
   "cell_type": "code",
   "execution_count": null,
   "id": "08f37e8a-b6d4-4f74-84c1-ff04d47181e0",
   "metadata": {},
   "outputs": [],
   "source": []
  },
  {
   "cell_type": "code",
   "execution_count": null,
   "id": "296e993b-94ab-4a23-aa9d-91f715c00f45",
   "metadata": {},
   "outputs": [],
   "source": []
  }
 ],
 "metadata": {
  "kernelspec": {
   "display_name": "Python 3 (ipykernel)",
   "language": "python",
   "name": "python3"
  },
  "language_info": {
   "codemirror_mode": {
    "name": "ipython",
    "version": 3
   },
   "file_extension": ".py",
   "mimetype": "text/x-python",
   "name": "python",
   "nbconvert_exporter": "python",
   "pygments_lexer": "ipython3",
   "version": "3.8.15"
  }
 },
 "nbformat": 4,
 "nbformat_minor": 5
}
